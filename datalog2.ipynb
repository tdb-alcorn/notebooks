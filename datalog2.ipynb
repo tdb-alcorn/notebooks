{
 "cells": [
  {
   "cell_type": "code",
   "execution_count": 332,
   "metadata": {},
   "outputs": [],
   "source": [
    "p0 = \"\"\"\n",
    "foo(1).\n",
    "foo(2).\n",
    "baz(3,1).\n",
    "query(X,Y) :- foo(X), baz(Y,X).\n",
    "\"\"\""
   ]
  },
  {
   "cell_type": "code",
   "execution_count": 174,
   "metadata": {},
   "outputs": [],
   "source": [
    "from pyparsing import Word, alphas, nums, Literal, Or, ParseException, ZeroOrMore, Group, delimitedList\n",
    "from enum import Enum\n",
    "\n",
    "identifier = Word(alphas)\n",
    "value = Word(nums)\n",
    "variable = identifier ^ value\n",
    "\n",
    "clause = identifier.setResultsName(\"predicate\") + \"(\" + delimitedList(variable, delim=\",\").setResultsName(\"variables\") + \")\"\n",
    "rule = clause.setResultsName(\"head\") + \":-\" + delimitedList(Group(clause), delim=\",\").setResultsName(\"body\")\n",
    "statement = Group((clause ^ rule) + Or([\".\", \"?\"]))\n",
    "program = OneOrMore(statement)"
   ]
  },
  {
   "cell_type": "code",
   "execution_count": 175,
   "metadata": {},
   "outputs": [],
   "source": [
    "clause.parseString(\"foo(1)\")\n",
    "pp = program.parseString(p0)"
   ]
  },
  {
   "cell_type": "code",
   "execution_count": 117,
   "metadata": {},
   "outputs": [
    {
     "data": {
      "text/plain": [
       "'foo'"
      ]
     },
     "execution_count": 117,
     "metadata": {},
     "output_type": "execute_result"
    }
   ],
   "source": [
    "dict(pp[2])[\"body\"][0][\"predicate\"]"
   ]
  },
  {
   "cell_type": "code",
   "execution_count": 346,
   "metadata": {},
   "outputs": [],
   "source": [
    "from collections import defaultdict\n",
    "from copy import deepcopy\n",
    "\n",
    "def is_variable(v):\n",
    "    return v[0].isalpha() and v[0].isupper()\n",
    "\n",
    "def evaluate(statements):\n",
    "    statements = [s.asDict() for s in statements]\n",
    "    memory = defaultdict(lambda: [])\n",
    "    while len(statements) > 0:\n",
    "        p = statements[0]\n",
    "        new_statements = handle(memory, p)\n",
    "#         print([s[\"head\"][\"variables\"] for s in new_statements])\n",
    "        statements = statements[1:] + new_statements\n",
    "#         print(memory, statements)\n",
    "        print(statements)\n",
    "    return memory\n",
    "        \n",
    "\n",
    "def find_matching_indices(l1, l2):\n",
    "    r = list()\n",
    "    for el in l2:\n",
    "        if el in l1:\n",
    "            r.append(l1.index(el))\n",
    "        else:\n",
    "            r.append(None)\n",
    "    return r\n",
    "\n",
    "def handle(memory, s):\n",
    "    new_statements = list()\n",
    "    if \"head\" in s:\n",
    "        if \"assignments\" not in s[\"head\"]:\n",
    "            s[\"head\"][\"assignments\"] = [None for v in s[\"head\"][\"variables\"]]\n",
    "        if len(s[\"body\"]) == 0:\n",
    "            memory[s[\"head\"][\"predicate\"]].append(s[\"head\"][\"assignments\"])\n",
    "        for cidx in range(len(s[\"body\"])):\n",
    "            c = s[\"body\"][cidx]\n",
    "            matches = find_matching_indices(list(s[\"head\"][\"variables\"]), list(c[\"variables\"]))\n",
    "            print(matches)\n",
    "            if any(m is None for m in matches):\n",
    "                continue\n",
    "            for values in memory[c[\"predicate\"]]:\n",
    "                new_s = deepcopy(s)\n",
    "                print(\"Starting head\", new_s[\"head\"])\n",
    "                print(\"Starting body\", new_s[\"body\"])\n",
    "                try:\n",
    "                    for i in range(len(matches)):\n",
    "    #                     if matches[i] is not None:\n",
    "                        if new_s[\"head\"][\"assignments\"][matches[i]] is None:\n",
    "                            print(new_s[\"head\"][\"variables\"][matches[i]], \"->\", values[i])\n",
    "                            new_s[\"head\"][\"assignments\"][matches[i]] = values[i]\n",
    "                        else:\n",
    "                            if new_s[\"head\"][\"assignments\"][matches[i]] != values[i]:\n",
    "                                raise Exception(\"Conflicting values:\", new_s[\"head\"][\"assignments\"][matches[i]], values[i])\n",
    "                    new_s[\"body\"] = new_s[\"body\"][:cidx] + new_s[\"body\"][cidx+1:]\n",
    "                    print(\"Ending head\", new_s[\"head\"])\n",
    "                    print(\"Ending body\", new_s[\"body\"])\n",
    "                    new_statements.append(new_s)\n",
    "                except Exception:\n",
    "                    pass\n",
    "#             print(new_statements)\n",
    "    else:\n",
    "        memory[s[\"predicate\"]].append(s[\"variables\"])\n",
    "    return new_statements\n",
    "\n",
    "            \n",
    "def test_evaluate(statements):\n",
    "    statements = [s.asDict() for s in statements]\n",
    "    memory = defaultdict(lambda: [])\n",
    "    while len(statements) > 0:\n",
    "        new_statements = handle(memory, statements[0])\n",
    "        statements = statements[1:] + new_statements\n",
    "        print(\"Memory:\", memory)\n",
    "    return memory\n"
   ]
  },
  {
   "cell_type": "code",
   "execution_count": 347,
   "metadata": {},
   "outputs": [
    {
     "name": "stdout",
     "output_type": "stream",
     "text": [
      "Memory: defaultdict(<function test_evaluate.<locals>.<lambda> at 0x110a1f158>, {'person': [['alice']]})\n",
      "Memory: defaultdict(<function test_evaluate.<locals>.<lambda> at 0x110a1f158>, {'person': [['alice'], ['bob']]})\n",
      "Memory: defaultdict(<function test_evaluate.<locals>.<lambda> at 0x110a1f158>, {'person': [['alice'], ['bob'], ['eve']]})\n",
      "Memory: defaultdict(<function test_evaluate.<locals>.<lambda> at 0x110a1f158>, {'person': [['alice'], ['bob'], ['eve']], 'parent': [['alice', 'eve']]})\n",
      "Memory: defaultdict(<function test_evaluate.<locals>.<lambda> at 0x110a1f158>, {'person': [['alice'], ['bob'], ['eve']], 'parent': [['alice', 'eve'], ['bob', 'eve']]})\n",
      "[0, None]\n",
      "[1, None]\n",
      "Memory: defaultdict(<function test_evaluate.<locals>.<lambda> at 0x110a1f158>, {'person': [['alice'], ['bob'], ['eve']], 'parent': [['alice', 'eve'], ['bob', 'eve']]})\n"
     ]
    },
    {
     "data": {
      "text/plain": [
       "[]"
      ]
     },
     "execution_count": 347,
     "metadata": {},
     "output_type": "execute_result"
    }
   ],
   "source": [
    "test_evaluate(program.parseString(\"\"\"\n",
    "person(alice).\n",
    "person(bob).\n",
    "person(eve).\n",
    "parent(alice,eve).\n",
    "parent(bob,eve).\n",
    "sibling(A, B) :- parent(A,C), parent(B,C).\n",
    "\"\"\"))[\"sibling\"]"
   ]
  },
  {
   "cell_type": "code",
   "execution_count": 339,
   "metadata": {},
   "outputs": [
    {
     "name": "stdout",
     "output_type": "stream",
     "text": [
      "defaultdict(<function test_evaluate.<locals>.<lambda> at 0x110937b70>, {'foo': [['1']]})\n",
      "defaultdict(<function test_evaluate.<locals>.<lambda> at 0x110937b70>, {'foo': [['1'], ['2']]})\n",
      "defaultdict(<function test_evaluate.<locals>.<lambda> at 0x110937b70>, {'foo': [['1'], ['2']], 'baz': [['3', '1']]})\n",
      "[0]\n",
      "X -> 1\n",
      "X -> 2\n",
      "[1, 0]\n",
      "Y -> 3\n",
      "X -> 1\n",
      "defaultdict(<function test_evaluate.<locals>.<lambda> at 0x110937b70>, {'foo': [['1'], ['2']], 'baz': [['3', '1']]})\n",
      "[1, 0]\n",
      "Y -> 3\n",
      "defaultdict(<function test_evaluate.<locals>.<lambda> at 0x110937b70>, {'foo': [['1'], ['2']], 'baz': [['3', '1']]})\n",
      "[1, 0]\n",
      "Y -> 3\n",
      "defaultdict(<function test_evaluate.<locals>.<lambda> at 0x110937b70>, {'foo': [['1'], ['2']], 'baz': [['3', '1']]})\n",
      "[0]\n",
      "defaultdict(<function test_evaluate.<locals>.<lambda> at 0x110937b70>, {'foo': [['1'], ['2']], 'baz': [['3', '1']]})\n",
      "defaultdict(<function test_evaluate.<locals>.<lambda> at 0x110937b70>, {'foo': [['1'], ['2']], 'baz': [['3', '1']], 'query': [['1', '3']]})\n",
      "defaultdict(<function test_evaluate.<locals>.<lambda> at 0x110937b70>, {'foo': [['1'], ['2']], 'baz': [['3', '1']], 'query': [['1', '3'], ['1', '3']]})\n"
     ]
    },
    {
     "data": {
      "text/plain": [
       "[['1', '3'], ['1', '3']]"
      ]
     },
     "execution_count": 339,
     "metadata": {},
     "output_type": "execute_result"
    }
   ],
   "source": [
    "test_evaluate(program.parseString(p0))[\"query\"]"
   ]
  },
  {
   "cell_type": "code",
   "execution_count": 340,
   "metadata": {},
   "outputs": [
    {
     "name": "stdout",
     "output_type": "stream",
     "text": [
      "defaultdict(<function test_evaluate.<locals>.<lambda> at 0x111ca2400>, {'person': [['alice']]})\n",
      "defaultdict(<function test_evaluate.<locals>.<lambda> at 0x111ca2400>, {'person': [['alice'], ['bob']]})\n",
      "defaultdict(<function test_evaluate.<locals>.<lambda> at 0x111ca2400>, {'person': [['alice'], ['bob'], ['eve']]})\n",
      "defaultdict(<function test_evaluate.<locals>.<lambda> at 0x111ca2400>, {'person': [['alice'], ['bob'], ['eve']], 'parent': [['alice', 'eve']]})\n",
      "defaultdict(<function test_evaluate.<locals>.<lambda> at 0x111ca2400>, {'person': [['alice'], ['bob'], ['eve']], 'parent': [['alice', 'eve'], ['bob', 'eve']]})\n",
      "[0, None]\n",
      "[1, None]\n",
      "defaultdict(<function test_evaluate.<locals>.<lambda> at 0x111ca2400>, {'person': [['alice'], ['bob'], ['eve']], 'parent': [['alice', 'eve'], ['bob', 'eve']]})\n",
      "[0, 1]\n",
      "defaultdict(<function test_evaluate.<locals>.<lambda> at 0x111ca2400>, {'person': [['alice'], ['bob'], ['eve']], 'parent': [['alice', 'eve'], ['bob', 'eve']], 'sibling': []})\n"
     ]
    },
    {
     "data": {
      "text/plain": [
       "[]"
      ]
     },
     "execution_count": 340,
     "metadata": {},
     "output_type": "execute_result"
    }
   ],
   "source": []
  },
  {
   "cell_type": "code",
   "execution_count": 249,
   "metadata": {},
   "outputs": [
    {
     "data": {
      "text/plain": [
       "[0]"
      ]
     },
     "execution_count": 249,
     "metadata": {},
     "output_type": "execute_result"
    }
   ],
   "source": [
    "find_matching_indices([\"X\", \"Y\"], [\"X\"])"
   ]
  },
  {
   "cell_type": "code",
   "execution_count": null,
   "metadata": {},
   "outputs": [],
   "source": [
    "    \n",
    "# def handle(memory, s):\n",
    "#     new_statements = list()\n",
    "#     if \"head\" in s:\n",
    "#         # treat as a rule\n",
    "#         if len(s[\"body\"]) == 0:\n",
    "#             memory[s[\"head\"][\"predicate\"]].append(s[\"head\"][\"variables\"])\n",
    "#         for cidx in range(len(s[\"body\"])):\n",
    "#             c = s[\"body\"][cidx]\n",
    "#             variable_matches = find_matching_indices(list(s[\"head\"][\"variables\"]), list(c[\"variables\"]))\n",
    "#             if all(m is None for m in variable_matches):\n",
    "#                 continue\n",
    "#             for values in memory[c[\"predicate\"]]:\n",
    "#                 print(values)\n",
    "#                 new_s = dict(s)\n",
    "#                 print(len(new_s[\"body\"]))\n",
    "#                 new_s[\"body\"] = new_s[\"body\"][:cidx-1] + new_s[\"body\"][cidx+1:]\n",
    "#                 print(len(new_s[\"body\"]))\n",
    "#                 for i in range(len(variable_matches)):\n",
    "#                     if variable_matches[i] is not None:\n",
    "#                         print(new_s[\"head\"][\"variables\"][variable_matches[i]], \"->\", values[i])\n",
    "#                         new_s[\"head\"][\"variables\"][variable_matches[i]] = values[i]\n",
    "#                 new_statements.append(new_s)\n",
    "#                 print([s[\"head\"][\"variables\"] for s in new_statements])\n",
    "#                 print(variable_matches)\n",
    "#             print(new_statements[0] is new_statements[1])\n",
    "#             print(len(new_statements))\n",
    "#     else:\n",
    "#         memory[s[\"predicate\"]].append(s[\"variables\"])\n",
    "#     return new_statements"
   ]
  },
  {
   "cell_type": "code",
   "execution_count": 199,
   "metadata": {},
   "outputs": [
    {
     "data": {
      "text/plain": [
       "[0, 1, 2, 3]"
      ]
     },
     "execution_count": 199,
     "metadata": {},
     "output_type": "execute_result"
    }
   ],
   "source": [
    "list(range(5))[:4]"
   ]
  },
  {
   "cell_type": "code",
   "execution_count": 256,
   "metadata": {},
   "outputs": [
    {
     "name": "stdout",
     "output_type": "stream",
     "text": [
      "{'foo': 1} {'foo': 2} {'foo': 1}\n"
     ]
    },
    {
     "data": {
      "text/plain": [
       "{'foo': 1}"
      ]
     },
     "execution_count": 256,
     "metadata": {},
     "output_type": "execute_result"
    }
   ],
   "source": [
    "a = {\"foo\":1}\n",
    "b = dict(a)\n",
    "c = dict(a)\n",
    "b[\"foo\"] = 2\n",
    "print(a,b, c)\n",
    "a"
   ]
  },
  {
   "cell_type": "code",
   "execution_count": 259,
   "metadata": {},
   "outputs": [
    {
     "data": {
      "text/plain": [
       "False"
      ]
     },
     "execution_count": 259,
     "metadata": {},
     "output_type": "execute_result"
    }
   ],
   "source": [
    "a is c"
   ]
  },
  {
   "cell_type": "code",
   "execution_count": 245,
   "metadata": {},
   "outputs": [],
   "source": [
    "l = list()\n",
    "l.append(None)"
   ]
  },
  {
   "cell_type": "code",
   "execution_count": 288,
   "metadata": {},
   "outputs": [],
   "source": [
    "l = list(range(10))"
   ]
  },
  {
   "cell_type": "code",
   "execution_count": 289,
   "metadata": {},
   "outputs": [
    {
     "data": {
      "text/plain": [
       "[0, 1, 2, 3, 4, 6, 7, 8, 9]"
      ]
     },
     "execution_count": 289,
     "metadata": {},
     "output_type": "execute_result"
    }
   ],
   "source": [
    "l[:5] + l[6:]"
   ]
  },
  {
   "cell_type": "code",
   "execution_count": null,
   "metadata": {},
   "outputs": [],
   "source": []
  }
 ],
 "metadata": {
  "kernelspec": {
   "display_name": "Python 3",
   "language": "python",
   "name": "python3"
  },
  "language_info": {
   "codemirror_mode": {
    "name": "ipython",
    "version": 3
   },
   "file_extension": ".py",
   "mimetype": "text/x-python",
   "name": "python",
   "nbconvert_exporter": "python",
   "pygments_lexer": "ipython3",
   "version": "3.6.3"
  }
 },
 "nbformat": 4,
 "nbformat_minor": 2
}
