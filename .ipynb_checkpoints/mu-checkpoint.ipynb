{
 "cells": [
  {
   "cell_type": "code",
   "execution_count": 1,
   "metadata": {},
   "outputs": [],
   "source": [
    "empty = \"\"\n",
    "M = \"M\"\n",
    "I = \"I\"\n",
    "U = \"U\"\n",
    "III = I + I + I\n",
    "UU = U + U\n",
    "\n",
    "def rule1(string):\n",
    "    # MxI => MxIU\n",
    "    if string[-1] == I:\n",
    "        return string + \"U\"\n",
    "    return string\n",
    "\n",
    "def rule2(string):\n",
    "    # Mx => Mxx\n",
    "    if string[0] == M:\n",
    "        return string[0] + string[1:] + string[1:]\n",
    "    return string\n",
    "\n",
    "def substitute(string, pattern, replacement, idx=0):\n",
    "    # returns a boolean indicating whether there may be more substitutions possible\n",
    "    cnt = 0\n",
    "    l = len(pattern)\n",
    "    for i in range(len(string)):\n",
    "        if string[i:i+l] == pattern:\n",
    "            if cnt == idx:\n",
    "                return string[:i] + replacement + string[i+l:], True\n",
    "            cnt += 1\n",
    "    return string, False\n",
    "\n",
    "def rule3(string, idx=0):\n",
    "    # MxIIIy => MxUy\n",
    "    return substitute(string, III, U, idx=idx)\n",
    "\n",
    "def rule4(string, idx=0):\n",
    "    return substitute(string, UU, empty, idx=idx)"
   ]
  },
  {
   "cell_type": "code",
   "execution_count": 2,
   "metadata": {},
   "outputs": [
    {
     "data": {
      "text/plain": [
       "('MIU', True)"
      ]
     },
     "execution_count": 2,
     "metadata": {},
     "output_type": "execute_result"
    }
   ],
   "source": [
    "rule3(\"MIIII\", 1)"
   ]
  },
  {
   "cell_type": "code",
   "execution_count": 3,
   "metadata": {},
   "outputs": [],
   "source": [
    "MI = \"MI\"\n",
    "rules = [rule1, rule2, rule3, rule4]\n"
   ]
  },
  {
   "cell_type": "code",
   "execution_count": 6,
   "metadata": {},
   "outputs": [],
   "source": [
    "class BreadthFirstSearch(object):\n",
    "    def __init__(self, starting_pattern):\n",
    "        self.starting_pattern = starting_pattern\n",
    "        self.paths = [[starting_pattern]]\n",
    "        self.seen = set()\n",
    "        \n",
    "    def search(self, pattern, max_depth=3):\n",
    "        for i in range(max_depth):\n",
    "            print(\"Depth:\", i+1)\n",
    "            self.step()\n",
    "        for path in self.paths:\n",
    "            if path[-1] == pattern:\n",
    "                return path\n",
    "        return \"Not found\"\n",
    "        \n",
    "    def step(self):\n",
    "        next_paths = []\n",
    "        print(\"Number of paths:\", len(self.paths))\n",
    "        for path in self.paths:\n",
    "            self.seen.add(path[-1])\n",
    "        for path in self.paths:\n",
    "            last = path[-1]\n",
    "            \n",
    "#             print('rule1')\n",
    "            new_path1 = list(path)  # make a new list\n",
    "            new_path1.append(rule1(last))\n",
    "            if new_path1[-1] not in self.seen:\n",
    "                next_paths.append(new_path1)\n",
    "            \n",
    "#             print('rule2')\n",
    "            new_path2 = list(path)\n",
    "            new_path2.append(rule2(last))\n",
    "            if new_path2[-1] not in self.seen:\n",
    "                next_paths.append(new_path2)\n",
    "            \n",
    "#             print('rule3')\n",
    "            more = True\n",
    "            idx = 0\n",
    "            while more:\n",
    "                new_path3 = list(path)\n",
    "                nxt, more = rule3(last, idx=idx)\n",
    "                idx += 1\n",
    "                if more and nxt not in self.seen:\n",
    "                    new_path3.append(nxt)\n",
    "                    next_paths.append(new_path3)\n",
    "            \n",
    "#             print('rule4')\n",
    "            more = True\n",
    "            idx = 0\n",
    "            while more:\n",
    "                new_path4 = list(path)\n",
    "                nxt, more = rule4(last, idx=idx)\n",
    "                idx += 1\n",
    "                if more and nxt not in self.seen:\n",
    "                    new_path4.append(nxt)\n",
    "                    next_paths.append(new_path4)\n",
    "        self.paths = next_paths\n",
    "    "
   ]
  },
  {
   "cell_type": "code",
   "execution_count": 7,
   "metadata": {},
   "outputs": [
    {
     "name": "stdout",
     "output_type": "stream",
     "text": [
      "Depth: 1\n",
      "Number of paths: 1\n",
      "Depth: 2\n",
      "Number of paths: 2\n",
      "Depth: 3\n",
      "Number of paths: 3\n",
      "Depth: 4\n",
      "Number of paths: 5\n",
      "Depth: 5\n",
      "Number of paths: 15\n",
      "Depth: 6\n",
      "Number of paths: 54\n",
      "Depth: 7\n",
      "Number of paths: 314\n",
      "Depth: 8\n",
      "Number of paths: 2843\n",
      "Depth: 9\n",
      "Number of paths: 38814\n",
      "Depth: 10\n",
      "Number of paths: 807614\n"
     ]
    },
    {
     "data": {
      "text/plain": [
       "'Not found'"
      ]
     },
     "execution_count": 7,
     "metadata": {},
     "output_type": "execute_result"
    }
   ],
   "source": [
    "search = BreadthFirstSearch(MI)\n",
    "search.search(\"MU\", 10)"
   ]
  },
  {
   "cell_type": "code",
   "execution_count": null,
   "metadata": {},
   "outputs": [],
   "source": []
  }
 ],
 "metadata": {
  "kernelspec": {
   "display_name": "Python [conda env:py3]",
   "language": "python",
   "name": "conda-env-py3-py"
  }
 },
 "nbformat": 4,
 "nbformat_minor": 2
}
