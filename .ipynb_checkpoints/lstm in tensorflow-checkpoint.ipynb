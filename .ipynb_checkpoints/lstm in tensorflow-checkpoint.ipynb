{
 "cells": [
  {
   "cell_type": "code",
   "execution_count": 1,
   "metadata": {},
   "outputs": [],
   "source": [
    "import numpy as np\n",
    "import tensorflow as tf"
   ]
  },
  {
   "cell_type": "code",
   "execution_count": 19,
   "metadata": {},
   "outputs": [],
   "source": [
    "# hidden_size = 4\n",
    "output_size = 2\n",
    "input_size = 8\n",
    "\n",
    "def fully_connected_layer(x, output_size, activation=None, name=None):\n",
    "    name = name if name is not None else 'fc_layer'\n",
    "    x_shape = x.shape[-1].value\n",
    "    W = tf.Variable(initial_value=tf.truncated_normal((x_shape, output_size), stddev=1e-1), name=name+'_weights')\n",
    "    b = tf.Variable(initial_value=tf.zeros((output_size,), dtype=tf.float32), name=name+'_bias')\n",
    "    \n",
    "    return activation(tf.add(tf.matmul(x, W), b))\n",
    "\n",
    "graph = tf.Graph()\n",
    "with graph.as_default():\n",
    "    \n",
    "    cell_state = tf.placeholder(tf.float32, shape=(None, output_size))\n",
    "    hidden_state = tf.placeholder(tf.float32, shape=(None, output_size))\n",
    "    input_ = tf.placeholder(tf.float32, shape=(None, input_size))\n",
    "\n",
    "    x = tf.concat([hidden_state, input_], 1)\n",
    "    x_size = output_size + input_size\n",
    "    \n",
    "    forget = fully_connected_layer(x, output_size, activation=tf.sigmoid, name='forget')\n",
    "    input_gate = fully_connected_layer(x, output_size, activation=tf.sigmoid, name='input_gate')\n",
    "    candidate = fully_connected_layer(x, output_size, activation=tf.tanh, name='candidate')\n",
    "    \n",
    "    next_cell_state = tf.add(tf.multiply(forget, cell_state), tf.multiply(input_gate, candidate))\n",
    "    output = fully_connected_layer(x, output_size, activation=tf.sigmoid, name='output')\n",
    "    next_hidden_state = tf.multiply(output, tf.tanh(next_cell_state))\n",
    "    \n",
    "    with tf.Session() as sess:\n",
    "        feed_dict = {\n",
    "            cell_state: np.array([[1, 1]]),\n",
    "            hidden_state: np.array([[1, 1]]),\n",
    "            input_: np.array([[1, 1, 1, 1, 1, 1, 1, 1]])\n",
    "        }\n",
    "        init = tf.global_variables_initializer()\n",
    "        sess.run(init)\n",
    "        sess.run([next_cell_state, output, next_hidden_state], feed_dict=feed_dict)\n",
    "    "
   ]
  },
  {
   "cell_type": "code",
   "execution_count": null,
   "metadata": {},
   "outputs": [],
   "source": []
  }
 ],
 "metadata": {
  "kernelspec": {
   "display_name": "Python 3",
   "language": "python",
   "name": "python3"
  },
  "language_info": {
   "codemirror_mode": {
    "name": "ipython",
    "version": 3
   },
   "file_extension": ".py",
   "mimetype": "text/x-python",
   "name": "python",
   "nbconvert_exporter": "python",
   "pygments_lexer": "ipython3",
   "version": "3.6.3"
  }
 },
 "nbformat": 4,
 "nbformat_minor": 2
}
