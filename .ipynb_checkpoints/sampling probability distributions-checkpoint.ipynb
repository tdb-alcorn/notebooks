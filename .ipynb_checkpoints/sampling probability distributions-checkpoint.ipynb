{
 "cells": [
  {
   "cell_type": "code",
   "execution_count": 7,
   "metadata": {},
   "outputs": [],
   "source": [
    "import numpy as np\n",
    "import matplotlib as mpl\n",
    "%matplotlib inline\n",
    "import matplotlib.pyplot as plt"
   ]
  },
  {
   "cell_type": "code",
   "execution_count": 151,
   "metadata": {},
   "outputs": [],
   "source": [
    "def linterp_sample(fn, low=0, high=1, resolution=100, size=None):\n",
    "    x = np.linspace(low, high, num=resolution+1, endpoint=True)\n",
    "    y = fn(x)\n",
    "    # dx = float(high-low)/res\n",
    "    areas = np.cumsum(y)\n",
    "    total_area = np.sum(y)\n",
    "    buckets = areas / total_area\n",
    "    u_samples = np.random.uniform(low=0, high=1, size=size)\n",
    "    samples = np.copy(u_samples)\n",
    "    it = np.nditer(u_samples, flags=['multi_index'])\n",
    "    while not it.finished:\n",
    "        idx = binary_search(buckets, it[0])\n",
    "        samples[it.multi_index] = x[idx]\n",
    "        it.iternext()\n",
    "    return samples\n",
    "\n",
    "def binary_search(arr, val):\n",
    "    '''Searches a sorted array for the index at which the value belongs.'''\n",
    "    low_idx = 0\n",
    "    high_idx = len(arr) - 1fa\n",
    "    while low_idx < high_idx:\n",
    "        mid_idx = (low_idx + high_idx) // 2\n",
    "        if val >= arr[mid_idx + 1]:\n",
    "            low_idx = mid_idx + 1\n",
    "        elif val < arr[mid_idx]:\n",
    "            high_idx = mid_idx\n",
    "        else:\n",
    "            return mid_idx\n",
    "    return low_idx\n",
    "    \n",
    "# def bin_search_impl(arr, val, low_idx, high_idx):\n",
    "#     if low_idx == high_idx:\n",
    "#         return low_idx\n",
    "#     mid_idx = (low_idx + high_idx) // 2\n",
    "#     if val >= arr[mid_idx + 1]:\n",
    "#         return bin_search_impl(arr, val, mid_idx + 1, high_idx)\n",
    "#     elif val < arr[mid_idx]:\n",
    "#         return bin_search_impl(arr, val, low_idx, mid_idx - 1)\n",
    "#     else:\n",
    "#         return mid_idx"
   ]
  },
  {
   "cell_type": "code",
   "execution_count": 172,
   "metadata": {},
   "outputs": [
    {
     "data": {
      "text/plain": [
       "(array([100., 100., 100., 100., 100., 100., 100., 100., 100., 100.]),\n",
       " array([ 0.,  1.,  2.,  3.,  4.,  5.,  6.,  7.,  8.,  9., 10.]),\n",
       " <a list of 10 Patch objects>)"
      ]
     },
     "execution_count": 172,
     "metadata": {},
     "output_type": "execute_result"
    },
    {
     "data": {
      "image/png": "[encoded data removed]",
      "text/plain": [
       "<matplotlib.figure.Figure at 0x11afe5e10>"
      ]
     },
     "metadata": {},
     "output_type": "display_data"
    }
   ],
   "source": [
    "bins = []\n",
    "for x in np.linspace(0, 10, num=1000, endpoint=False):\n",
    "    bins.append(binary_search(list(range(10)), x))\n",
    "plt.hist(bins, bins=10, range=(0,10))"
   ]
  },
  {
   "cell_type": "code",
   "execution_count": 106,
   "metadata": {},
   "outputs": [],
   "source": [
    "from collections import Counter"
   ]
  },
  {
   "cell_type": "code",
   "execution_count": 138,
   "metadata": {},
   "outputs": [
    {
     "data": {
      "text/plain": [
       "Counter({0: 100,\n",
       "         1: 100,\n",
       "         2: 100,\n",
       "         3: 100,\n",
       "         4: 100,\n",
       "         5: 100,\n",
       "         6: 100,\n",
       "         7: 100,\n",
       "         8: 100,\n",
       "         9: 100})"
      ]
     },
     "execution_count": 138,
     "metadata": {},
     "output_type": "execute_result"
    }
   ],
   "source": [
    "Counter(bins)"
   ]
  },
  {
   "cell_type": "code",
   "execution_count": 171,
   "metadata": {
    "scrolled": true
   },
   "outputs": [
    {
     "data": {
      "image/png": "[encoded data removed]",
      "text/plain": [
       "<matplotlib.figure.Figure at 0x11a9247f0>"
      ]
     },
     "metadata": {},
     "output_type": "display_data"
    }
   ],
   "source": [
    "x = np.linspace(0, 1, num=10000, endpoint=False)\n",
    "# y = lambda x: np.sin(4*x) + 1\n",
    "y = lambda x: x**0\n",
    "# print(y(x))\n",
    "p = linterp_sample(y, size=(100000,))\n",
    "# print(p)\n",
    "plt.plot(x, y(x))\n",
    "count, bins, ignored = plt.hist(p, bins=100, range=(0,1), density=True)"
   ]
  },
  {
   "cell_type": "code",
   "execution_count": 170,
   "metadata": {},
   "outputs": [
    {
     "data": {
      "text/plain": [
       "array([0.  , 0.01, 0.02, 0.03, 0.04, 0.05, 0.06, 0.07, 0.08, 0.09, 0.1 ,\n",
       "       0.11, 0.12, 0.13, 0.14, 0.15, 0.16, 0.17, 0.18, 0.19, 0.2 , 0.21,\n",
       "       0.22, 0.23, 0.24, 0.25, 0.26, 0.27, 0.28, 0.29, 0.3 , 0.31, 0.32,\n",
       "       0.33, 0.34, 0.35, 0.36, 0.37, 0.38, 0.39, 0.4 , 0.41, 0.42, 0.43,\n",
       "       0.44, 0.45, 0.46, 0.47, 0.48, 0.49, 0.5 , 0.51, 0.52, 0.53, 0.54,\n",
       "       0.55, 0.56, 0.57, 0.58, 0.59, 0.6 , 0.61, 0.62, 0.63, 0.64, 0.65,\n",
       "       0.66, 0.67, 0.68, 0.69, 0.7 , 0.71, 0.72, 0.73, 0.74, 0.75, 0.76,\n",
       "       0.77, 0.78, 0.79, 0.8 , 0.81, 0.82, 0.83, 0.84, 0.85, 0.86, 0.87,\n",
       "       0.88, 0.89, 0.9 , 0.91, 0.92, 0.93, 0.94, 0.95, 0.96, 0.97, 0.98,\n",
       "       0.99, 1.  ])"
      ]
     },
     "execution_count": 170,
     "metadata": {},
     "output_type": "execute_result"
    }
   ],
   "source": [
    "bins"
   ]
  },
  {
   "cell_type": "code",
   "execution_count": 140,
   "metadata": {},
   "outputs": [
    {
     "data": {
      "image/png": "[encoded data removed]",
      "text/plain": [
       "<matplotlib.figure.Figure at 0x118ea6400>"
      ]
     },
     "metadata": {},
     "output_type": "display_data"
    }
   ],
   "source": [
    "count, bins, ignored = plt.hist(np.random.uniform(size=(100000,)), bins=100, density=True)"
   ]
  },
  {
   "cell_type": "code",
   "execution_count": 331,
   "metadata": {},
   "outputs": [],
   "source": [
    "'''\n",
    "def sample_sine(num=1, epsilon=1e-1):\n",
    "    samples = []\n",
    "    i = 0\n",
    "    while i < num:\n",
    "        p = np.random.uniform(low=-1, high=1, size=(2,))\n",
    "        mag = np.sqrt(np.sum(np.square(p)))\n",
    "        # if 1 - epsilon <= np.sum(np.square(p)) <= 1 + epsilon:\n",
    "            samples.append(p[1]/mag)\n",
    "            i += 1\n",
    "    return np.array(samples)    \n",
    "\n",
    "\n",
    "def sample_sine(num=1):\n",
    "    p = np.random.uniform(low=-1, high=1, size=(num, 2))\n",
    "    in_circle = np.sum(np.square(p), axis=1) <= 1\n",
    "    p = p[in_circle, :]\n",
    "    return np.arctan2(p[:, 1], p[:, 0])\n",
    "#     mag = np.sqrt(np.sum(np.square(p), axis=1))\n",
    "#     return p[:, 1]/mag\n",
    "\n",
    "\n",
    "def sample_sine(num=1):\n",
    "    thetas = np.random.uniform(low=0, high=2*np.pi, size=(num,))\n",
    "    return np.sin(thetas)\n",
    "\n",
    "def sample_sine(num=1):\n",
    "    thetas = np.random.uniform(low=0, high=2*np.pi, size=(num,))\n",
    "    samples = np.zeros_like(thetas)\n",
    "    it = np.nditer(thetas, flags=['multi_index'])\n",
    "    while not it.finished:\n",
    "        samples[it.multi_index] = 1 + np.sin(it[0])\n",
    "        it.iternext()\n",
    "    return samples\n",
    "'''\n",
    "\n",
    "def sample_sine(low=-10, high=16.28, num=1):\n",
    "    # u = np.random.uniform(low=low, high=high, size=(num,))\n",
    "    x = np.random.uniform(low=-1, high=1, size=(num,))\n",
    "    theta = np.arcsin(x)\n",
    "    tau = 2*np.pi\n",
    "    l = np.floor(low / tau)\n",
    "    r = np.ceil(high / tau)\n",
    "    k = np.random.randint(l, high=r, size=(num,)) * tau\n",
    "  #  even = k % 2 == 0\n",
    " #   odd = ~even\n",
    "#     theta[even] = theta[even] + k[even]\n",
    "#    theta[odd] = np.random.uniform(np.pi, 2*np.pi, size=(np.sum(odd),)) - theta[odd] + k[odd]\n",
    "    # theta = u - theta + k\n",
    "    theta = np.random.uniform(np.pi, 2*np.pi, size=(num,)) - theta + k\n",
    "    in_bounds = (theta <= high) & (theta >= low)\n",
    "#     return theta[in_bounds & odd]\n",
    "    return theta[in_bounds]"
   ]
  },
  {
   "cell_type": "code",
   "execution_count": 336,
   "metadata": {},
   "outputs": [
    {
     "data": {
      "text/plain": [
       "[<matplotlib.lines.Line2D at 0x12ac10a90>]"
      ]
     },
     "execution_count": 336,
     "metadata": {},
     "output_type": "execute_result"
    },
    {
     "data": {
      "image/png": "[encoded data removed]",
      "text/plain": [
       "<matplotlib.figure.Figure at 0x12ac0a400>"
      ]
     },
     "metadata": {},
     "output_type": "display_data"
    }
   ],
   "source": [
    "_ = plt.hist(sample_sine(num=100000), bins=250)\n",
    "x = np.linspace(-10, 16.28, num=100)\n",
    "# plt.plot(x, 1200*np.cos(np.pi/2*x))\n",
    "a = 330\n",
    "plt.plot(x, -a*np.sin(x)+a)"
   ]
  },
  {
   "cell_type": "code",
   "execution_count": null,
   "metadata": {},
   "outputs": [],
   "source": []
  },
  {
   "cell_type": "code",
   "execution_count": null,
   "metadata": {},
   "outputs": [],
   "source": []
  }
 ],
 "metadata": {
  "kernelspec": {
   "display_name": "Python [conda env:py3]",
   "language": "python",
   "name": "conda-env-py3-py"
  },
  "language_info": {
   "codemirror_mode": {
    "name": "ipython",
    "version": 3
   },
   "file_extension": ".py",
   "mimetype": "text/x-python",
   "name": "python",
   "nbconvert_exporter": "python",
   "pygments_lexer": "ipython3",
   "version": "3.6.3"
  }
 },
 "nbformat": 4,
 "nbformat_minor": 2
}
