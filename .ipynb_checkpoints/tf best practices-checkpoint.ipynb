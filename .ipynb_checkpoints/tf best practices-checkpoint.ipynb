{
 "cells": [
  {
   "cell_type": "code",
   "execution_count": 2,
   "metadata": {},
   "outputs": [],
   "source": [
    "import tensorflow as tf\n",
    "import numpy as np"
   ]
  },
  {
   "cell_type": "code",
   "execution_count": 7,
   "metadata": {},
   "outputs": [],
   "source": [
    "tf.reset_default_graph()"
   ]
  },
  {
   "cell_type": "code",
   "execution_count": 2,
   "metadata": {},
   "outputs": [
    {
     "name": "stdout",
     "output_type": "stream",
     "text": [
      "[array([[  0.72557461,  -2.552881  ,  -5.76126385,  -0.5915882 ,\n",
      "         -0.28920016,  -0.10434288,  -2.11842537,   4.76189423,\n",
      "         -0.81955409,   1.96325541],\n",
      "       [ -3.6396749 ,   3.10976887,   6.6805892 ,   3.30029535,\n",
      "         -3.62575865,   1.26765418,   0.64654833,  -0.22065319,\n",
      "          0.02680999,  -3.96251321],\n",
      "       [  2.7589047 ,   2.74143362,   0.58019716,   1.87007999,\n",
      "         -0.98050672,   4.71620131,   0.12544006,   0.55100906,\n",
      "         -1.03681898,  -0.4832446 ],\n",
      "       [  1.07192707,   5.07990646,   5.95343161,   2.18401074,\n",
      "         -1.40028119,   0.92066139,  -0.28677237,   0.88124359,\n",
      "          2.32393312,   0.94559848],\n",
      "       [ -0.67576754,  -0.94296038,  -1.45888591,  -2.83448648,\n",
      "         -0.26420903,  -0.72080016,   2.15077043,  -2.33567047,\n",
      "         -4.31779003,  -0.1882427 ],\n",
      "       [ -0.07747667,  -0.41703409,   0.28838342,   2.5465436 ,\n",
      "         -1.87837887,   5.70499516,  -2.09908128,  -2.90187287,\n",
      "         -0.7347129 ,  -1.07568002],\n",
      "       [  0.93956435,   1.01255703,   0.09646288,   3.12650275,\n",
      "         -0.60590684,   2.91329074,   1.41921365,   2.94151378,\n",
      "          5.68613577,   0.13331534],\n",
      "       [ -1.94498539,   2.13116717,   1.42769706,   1.9041822 ,\n",
      "         -0.99852753,   1.55976033,  -3.01567721,  -7.53346968,\n",
      "         -4.50640678,  -4.31289434],\n",
      "       [ -2.52471209,   7.94559288,  13.47237587,  -1.64837253,\n",
      "         -4.15510845,   4.32952785,  -2.64215708,  -0.27629456,\n",
      "          0.46561325,  -0.74739909],\n",
      "       [  1.5449276 ,  -1.93112254,  -3.06313801,  -2.23579764,\n",
      "          1.44841313,   0.4402855 ,   2.69995952,   2.43914557,\n",
      "          2.8389709 ,   2.34964204]], dtype=float32)]\n"
     ]
    }
   ],
   "source": [
    "x = tf.random_normal((10, 10))\n",
    "y = tf.random_normal((10, 10))\n",
    "z = tf.matmul(x, y)\n",
    "\n",
    "sess = tf.Session()\n",
    "z_val = sess.run([z])\n",
    "print(z_val)"
   ]
  },
  {
   "cell_type": "code",
   "execution_count": 30,
   "metadata": {},
   "outputs": [],
   "source": [
    "tf.reset_default_graph()"
   ]
  },
  {
   "cell_type": "code",
   "execution_count": 31,
   "metadata": {},
   "outputs": [
    {
     "name": "stdout",
     "output_type": "stream",
     "text": [
      "Iteration: 0\tLoss: 2208187.00\n",
      "Iteration: 100\tLoss: 325.03\n",
      "Iteration: 200\tLoss: 53.79\n",
      "Iteration: 300\tLoss: 38.45\n",
      "Iteration: 400\tLoss: 31.66\n",
      "Iteration: 500\tLoss: 22.62\n",
      "Iteration: 600\tLoss: 16.93\n",
      "Iteration: 700\tLoss: 12.88\n",
      "Iteration: 800\tLoss: 8.96\n",
      "Iteration: 900\tLoss: 5.95\n",
      "Iteration: 1000\tLoss: 3.88\n",
      "Iteration: 1100\tLoss: 2.92\n",
      "Iteration: 1200\tLoss: 2.48\n",
      "Iteration: 1300\tLoss: 2.10\n",
      "Iteration: 1400\tLoss: 1.89\n",
      "Iteration: 1500\tLoss: 1.79\n",
      "Iteration: 1600\tLoss: 1.74\n",
      "Iteration: 1700\tLoss: 1.71\n",
      "Iteration: 1800\tLoss: 1.71\n",
      "Iteration: 1900\tLoss: 1.70\n",
      "w:  [array([[  5.00000668e+00,  -1.70825069e-06,   2.99931741e+00]], dtype=float32)]\n"
     ]
    }
   ],
   "source": [
    "# inputs\n",
    "x = tf.placeholder(tf.float32)\n",
    "y = tf.placeholder(tf.float32)\n",
    "\n",
    "w = tf.get_variable(\"w\", shape=(1,3))\n",
    "\n",
    "g = tf.stack([tf.square(x), x, tf.ones_like(x)], axis=0, name='f')\n",
    "yhat = tf.squeeze(tf.matmul(w, g))\n",
    "\n",
    "error = y - yhat\n",
    "loss = tf.nn.l2_loss(error) + 0.1 * tf.nn.l2_loss(w)\n",
    "\n",
    "train_op = tf.train.AdamOptimizer(0.1).minimize(loss)\n",
    "\n",
    "def generate_data():\n",
    "    x_val = np.random.uniform(-10.0, 10.0, size=100)\n",
    "    y_val = 5 * np.square(x_val) + 3\n",
    "    return x_val, y_val\n",
    "\n",
    "sess = tf.Session()\n",
    "\n",
    "sess.run(tf.global_variables_initializer())\n",
    "\n",
    "for i in range(2000):\n",
    "    x_train, y_train = generate_data()\n",
    "    _, loss_val = sess.run([train_op, loss], feed_dict={\n",
    "        x: x_train,\n",
    "        y: y_train,\n",
    "    })\n",
    "    if i % 100 == 0:\n",
    "        print(\"Iteration: %d\\tLoss: %.2f\" % (i, loss_val))\n",
    "w_val = sess.run([w])\n",
    "print(\"w: \", w_val)"
   ]
  },
  {
   "cell_type": "code",
   "execution_count": 43,
   "metadata": {},
   "outputs": [],
   "source": []
  },
  {
   "cell_type": "code",
   "execution_count": 58,
   "metadata": {},
   "outputs": [
    {
     "ename": "TypeError",
     "evalue": "assign() got an unexpected keyword argument 'name'",
     "output_type": "error",
     "traceback": [
      "\u001b[0;31m---------------------------------------------------------------------------\u001b[0m",
      "\u001b[0;31mTypeError\u001b[0m                                 Traceback (most recent call last)",
      "\u001b[0;32m<ipython-input-58-a0713782412b>\u001b[0m in \u001b[0;36m<module>\u001b[0;34m()\u001b[0m\n\u001b[1;32m      5\u001b[0m \u001b[0midx\u001b[0m \u001b[0;34m=\u001b[0m \u001b[0mtf\u001b[0m\u001b[0;34m.\u001b[0m\u001b[0munstack\u001b[0m\u001b[0;34m(\u001b[0m\u001b[0mtf\u001b[0m\u001b[0;34m.\u001b[0m\u001b[0mshape\u001b[0m\u001b[0;34m(\u001b[0m\u001b[0mx\u001b[0m\u001b[0;34m)\u001b[0m\u001b[0;34m)\u001b[0m\u001b[0;34m\u001b[0m\u001b[0m\n\u001b[1;32m      6\u001b[0m \u001b[0mval\u001b[0m \u001b[0;34m=\u001b[0m \u001b[0my\u001b[0m\u001b[0;34m[\u001b[0m\u001b[0midx\u001b[0m\u001b[0;34m[\u001b[0m\u001b[0;36m0\u001b[0m\u001b[0;34m]\u001b[0m\u001b[0;34m,\u001b[0m \u001b[0midx\u001b[0m\u001b[0;34m[\u001b[0m\u001b[0;36m1\u001b[0m\u001b[0;34m]\u001b[0m\u001b[0;34m]\u001b[0m\u001b[0;34m\u001b[0m\u001b[0m\n\u001b[0;32m----> 7\u001b[0;31m \u001b[0mtf\u001b[0m\u001b[0;34m.\u001b[0m\u001b[0massign\u001b[0m\u001b[0;34m(\u001b[0m\u001b[0mz\u001b[0m\u001b[0;34m[\u001b[0m\u001b[0midx\u001b[0m\u001b[0;34m[\u001b[0m\u001b[0;36m0\u001b[0m\u001b[0;34m]\u001b[0m\u001b[0;34m,\u001b[0m \u001b[0midx\u001b[0m\u001b[0;34m[\u001b[0m\u001b[0;36m1\u001b[0m\u001b[0;34m]\u001b[0m\u001b[0;34m]\u001b[0m\u001b[0;34m,\u001b[0m \u001b[0mtf\u001b[0m\u001b[0;34m.\u001b[0m\u001b[0mconstant\u001b[0m\u001b[0;34m(\u001b[0m\u001b[0;36m1.0\u001b[0m\u001b[0;34m)\u001b[0m\u001b[0;34m)\u001b[0m\u001b[0;34m\u001b[0m\u001b[0m\n\u001b[0m\u001b[1;32m      8\u001b[0m \u001b[0;34m\u001b[0m\u001b[0m\n\u001b[1;32m      9\u001b[0m \u001b[0msess\u001b[0m \u001b[0;34m=\u001b[0m \u001b[0mtf\u001b[0m\u001b[0;34m.\u001b[0m\u001b[0mSession\u001b[0m\u001b[0;34m(\u001b[0m\u001b[0;34m)\u001b[0m\u001b[0;34m\u001b[0m\u001b[0m\n",
      "\u001b[0;32m~/miniconda3/envs/py3/lib/python3.6/site-packages/tensorflow/python/ops/state_ops.py\u001b[0m in \u001b[0;36massign\u001b[0;34m(ref, value, validate_shape, use_locking, name)\u001b[0m\n\u001b[1;32m    269\u001b[0m         \u001b[0mref\u001b[0m\u001b[0;34m,\u001b[0m \u001b[0mvalue\u001b[0m\u001b[0;34m,\u001b[0m \u001b[0muse_locking\u001b[0m\u001b[0;34m=\u001b[0m\u001b[0muse_locking\u001b[0m\u001b[0;34m,\u001b[0m \u001b[0mname\u001b[0m\u001b[0;34m=\u001b[0m\u001b[0mname\u001b[0m\u001b[0;34m,\u001b[0m\u001b[0;34m\u001b[0m\u001b[0m\n\u001b[1;32m    270\u001b[0m         validate_shape=validate_shape)\n\u001b[0;32m--> 271\u001b[0;31m   \u001b[0;32mreturn\u001b[0m \u001b[0mref\u001b[0m\u001b[0;34m.\u001b[0m\u001b[0massign\u001b[0m\u001b[0;34m(\u001b[0m\u001b[0mvalue\u001b[0m\u001b[0;34m,\u001b[0m \u001b[0mname\u001b[0m\u001b[0;34m=\u001b[0m\u001b[0mname\u001b[0m\u001b[0;34m)\u001b[0m\u001b[0;34m\u001b[0m\u001b[0m\n\u001b[0m",
      "\u001b[0;31mTypeError\u001b[0m: assign() got an unexpected keyword argument 'name'"
     ]
    }
   ],
   "source": [
    "tf.reset_default_graph()\n",
    "x = tf.placeholder(tf.float32, (None, 128))\n",
    "y = tf.zeros((256, 256))\n",
    "z = tf.get_variable(\"z\", shape=y.shape)\n",
    "idx = tf.unstack(tf.shape(x))\n",
    "val = y[idx[0], idx[1]]\n",
    "tf.assign(z[idx[0], idx[1]], tf.constant(1.0))\n",
    "\n",
    "sess = tf.Session()\n",
    "sess.run(tf.global_variables_initializer())\n",
    "print(sess.run([idx, val, z], feed_dict={\n",
    "    x: np.random.uniform(size=(100, 128)),\n",
    "}))"
   ]
  },
  {
   "cell_type": "code",
   "execution_count": 65,
   "metadata": {},
   "outputs": [
    {
     "name": "stdout",
     "output_type": "stream",
     "text": [
      "[array([[ 2.,  3.],\n",
      "       [ 5.,  6.]], dtype=float32), array([[ 1.,  1.],\n",
      "       [ 2.,  2.]], dtype=float32), array([[ 2.,  3.],\n",
      "       [ 5.,  6.]], dtype=float32)]\n"
     ]
    }
   ],
   "source": [
    "tf.reset_default_graph()\n",
    "a = tf.constant([[1., 2.],     # shape 2, 2\n",
    "                 [3., 4.]])\n",
    "b = tf.constant([[1.], [2.]])  # shape 2, 1\n",
    "b2 = tf.tile(b, [1, 2])\n",
    "# c = a + tf.tile(b, [1, 2])\n",
    "c = a + b  # b is automatically broadcast along the singular dimension i.e. b effectively becomes [[1, 1], [2, 2]]\n",
    "c2 = a + b2\n",
    "\n",
    "sess = tf.Session()\n",
    "print(sess.run([c, b2, c2]))"
   ]
  },
  {
   "cell_type": "code",
   "execution_count": 72,
   "metadata": {},
   "outputs": [
    {
     "data": {
      "text/plain": [
       "[array([ 5,  3, 10], dtype=int32),\n",
       " array([5, 3, 6], dtype=int32),\n",
       " array([ 5,  3, 11], dtype=int32),\n",
       " array([ 5,  3, 10], dtype=int32),\n",
       " array([ 5,  1, 10], dtype=int32)]"
      ]
     },
     "execution_count": 72,
     "metadata": {},
     "output_type": "execute_result"
    }
   ],
   "source": [
    "tf.reset_default_graph()\n",
    "a = tf.random_uniform([5, 3, 5])\n",
    "b = tf.random_uniform([5, 1, 6])\n",
    "\n",
    "# concat a and b and apply nonlinearity\n",
    "tiled_b = tf.tile(b, [1, 3, 1])\n",
    "c = tf.concat([a, tiled_b], 2)\n",
    "# d = tf.layers.dense(c, 10, activation=tf.nn.relu)\n",
    "\n",
    "pa = tf.layers.dense(a, 10, activation=None)\n",
    "pb = tf.layers.dense(b, 10, activation=None)\n",
    "d = tf.nn.relu(pa + pb)\n",
    "\n",
    "sess = tf.Session()\n",
    "sess.run(tf.global_variables_initializer())\n",
    "sess.run([tf.shape(d), tf.shape(tiled_b), tf.shape(c), tf.shape(pa), tf.shape(pb)])"
   ]
  },
  {
   "cell_type": "code",
   "execution_count": 75,
   "metadata": {},
   "outputs": [
    {
     "data": {
      "text/plain": [
       "[array([[ 2.,  3.],\n",
       "        [ 3.,  4.]], dtype=float32), array([ 5.,  7.], dtype=float32)]"
      ]
     },
     "execution_count": 75,
     "metadata": {},
     "output_type": "execute_result"
    }
   ],
   "source": [
    "tf.reset_default_graph()\n",
    "a = tf.constant([[1.], [2.]])\n",
    "b = tf.constant([1., 2.])\n",
    "x = a + b\n",
    "c = tf.reduce_sum(a + b, 0)\n",
    "\n",
    "sess = tf.Session()\n",
    "sess.run([x, c])"
   ]
  },
  {
   "cell_type": "code",
   "execution_count": 79,
   "metadata": {},
   "outputs": [
    {
     "data": {
      "text/plain": [
       "[-8.0194235,\n",
       " array([-2.05829644,  0.0786836 , -1.32210362,  0.78710669, -0.04660023,\n",
       "        -0.01584186,  0.4649528 ,  1.38861549,  0.47687832, -0.9592092 ,\n",
       "         0.17973821, -1.28693378,  0.78004295,  0.21382964,  1.1287986 ,\n",
       "         1.33013105, -1.44154418, -0.16058536,  0.01628442, -1.09937406,\n",
       "        -0.77581996, -0.86154544, -0.67956913,  0.39443183, -1.74573624,\n",
       "         0.84885514, -0.03870882,  0.70857441,  0.87378585, -0.57030934,\n",
       "        -0.27700326,  1.17700148, -0.02175002,  0.29926181,  0.34589994,\n",
       "        -0.95316517,  0.25859967, -1.61145508,  0.3409088 , -0.09218613,\n",
       "        -1.51660192,  1.54813063, -1.11595476, -0.15961893, -0.59285659,\n",
       "         0.53426701,  0.18732221, -0.69774216,  1.72375154,  0.72417217,\n",
       "         0.7555784 , -0.64745492, -1.58664298,  0.96362257, -1.48108816,\n",
       "        -0.0062035 , -1.38162243, -0.46313021, -0.28193644, -0.76961327,\n",
       "        -0.72713077,  1.07093048,  0.94622284, -0.96731734, -0.10325482,\n",
       "         0.74400711, -0.80533737, -0.5696274 ,  1.28877509,  0.89164656,\n",
       "        -0.25776947, -0.32754189,  0.20897932,  1.11954844, -0.01420846,\n",
       "         1.1018008 ,  0.85816675, -1.34846568, -0.0374748 ,  2.00316358,\n",
       "         0.74378681, -1.80630016, -0.55494696, -0.63740325, -1.27592182,\n",
       "         0.50460464,  2.29570699, -0.49868512, -2.12389398, -0.0888234 ,\n",
       "        -0.14804934, -0.52050716,  0.53527492,  0.10925818, -0.24525443,\n",
       "        -1.59160078,  0.73372853,  0.49913502,  0.36326489, -1.19893062], dtype=float32)]"
      ]
     },
     "execution_count": 79,
     "metadata": {},
     "output_type": "execute_result"
    }
   ],
   "source": [
    "tf.reset_default_graph()\n",
    "\n",
    "def py_input_fn():\n",
    "    actual_data = np.random.normal(size=[100]).astype(np.float32)\n",
    "    return actual_data\n",
    "\n",
    "data = tf.py_func(py_input_fn, [], (tf.float32))\n",
    "\n",
    "s = tf.reduce_sum(data, axis=0)\n",
    "sess = tf.Session()\n",
    "sess.run([s, data])"
   ]
  },
  {
   "cell_type": "code",
   "execution_count": 4,
   "metadata": {},
   "outputs": [
    {
     "data": {
      "text/plain": [
       "[array([-0.23755325,  0.12113216, -0.15645416,  0.17869342, -1.84423095,\n",
       "        -0.10001481, -0.15883921, -0.19642777, -0.42912369,  1.62389936])]"
      ]
     },
     "execution_count": 4,
     "metadata": {},
     "output_type": "execute_result"
    }
   ],
   "source": [
    "tf.reset_default_graph()\n",
    "\n",
    "actual_data = np.random.normal(size=[100])\n",
    "dataset = tf.data.Dataset.from_tensor_slices(actual_data)\n",
    "dataset = dataset.cache().repeat().shuffle(50).batch(10)\n",
    "data = dataset.make_one_shot_iterator().get_next()\n",
    "\n",
    "sess = tf.Session()\n",
    "sess.run([data])"
   ]
  },
  {
   "cell_type": "code",
   "execution_count": 5,
   "metadata": {},
   "outputs": [
    {
     "data": {
      "text/plain": [
       "'1.7.0'"
      ]
     },
     "execution_count": 5,
     "metadata": {},
     "output_type": "execute_result"
    }
   ],
   "source": [
    "tf.VERSION"
   ]
  },
  {
   "cell_type": "code",
   "execution_count": 11,
   "metadata": {},
   "outputs": [
    {
     "name": "stdout",
     "output_type": "stream",
     "text": [
      "[[0.952212   0.03413987 0.56339395 ... 0.33581567 0.42299306 0.16709983]\n",
      " [0.6579101  0.3631674  0.5493778  ... 0.8733444  0.5778843  0.01757073]\n",
      " [0.5089232  0.06754816 0.08887458 ... 0.763232   0.15480387 0.43504226]\n",
      " ...\n",
      " [0.909196   0.9949435  0.48006308 ... 0.14034474 0.34922528 0.40475655]\n",
      " [0.57919276 0.6207397  0.6907548  ... 0.7552383  0.0125221  0.70238197]\n",
      " [0.3117559  0.28755808 0.66150117 ... 0.15655017 0.07623506 0.03452671]]\n",
      "[array([246.16019, 253.51845, 253.35117, 254.90341, 256.52777, 248.42632,\n",
      "       241.5565 , 243.28238, 261.04614, 241.826  ], dtype=float32)]\n",
      "Took 0.768372 seconds.\n",
      "[array([251.004  , 258.51913, 241.22623, 239.25826, 254.39027, 251.09422,\n",
      "       244.71529, 249.52501, 248.08665, 256.0262 ], dtype=float32)]\n",
      "Took 0.176691 seconds.\n",
      "[array([256.19385, 245.7489 , 247.26166, 252.42567, 249.88708, 260.65445,\n",
      "       249.14397, 255.85355, 241.75874, 248.57874], dtype=float32)]\n",
      "Took 0.064975 seconds.\n"
     ]
    }
   ],
   "source": [
    "import time\n",
    "\n",
    "tf.reset_default_graph()\n",
    "\n",
    "x = tf.random_uniform([500, 10])\n",
    "\n",
    "z = tf.zeros([10])\n",
    "for i in range(500):\n",
    "    z += x[i]\n",
    "\n",
    "sess = tf.Session()\n",
    "print(sess.run(x))\n",
    "start = time.time()\n",
    "print(sess.run([z]))\n",
    "print(\"Took %f seconds.\" % (time.time() - start))\n",
    "\n",
    "z2 = tf.zeros([10])\n",
    "for x_i in tf.unstack(x):\n",
    "    z2 += x_i\n",
    "\n",
    "start = time.time()\n",
    "print(sess.run([z2]))\n",
    "print(\"Took %f seconds.\" % (time.time() - start))\n",
    "\n",
    "red = tf.reduce_sum(x, axis=0)\n",
    "start = time.time()\n",
    "print(sess.run([red]))\n",
    "print(\"Took %f seconds.\" % (time.time() - start))"
   ]
  },
  {
   "cell_type": "code",
   "execution_count": 12,
   "metadata": {},
   "outputs": [
    {
     "name": "stdout",
     "output_type": "stream",
     "text": [
      "3\n"
     ]
    }
   ],
   "source": [
    "graph = tf.Graph()\n",
    "with graph.as_default():\n",
    "    a = tf.Variable(1)\n",
    "    b = tf.constant(2)\n",
    "    assign = tf.assign(a, a + b)\n",
    "    init = tf.global_variables_initializer()\n",
    "\n",
    "\n",
    "sess = tf.Session(graph=graph)\n",
    "sess.run(init)\n",
    "print(sess.run(assign))"
   ]
  },
  {
   "cell_type": "code",
   "execution_count": 14,
   "metadata": {},
   "outputs": [
    {
     "name": "stdout",
     "output_type": "stream",
     "text": [
      "[5, 7, 5]\n",
      "[5, 7, 5]\n",
      "[5, 7, 5]\n",
      "[5, 7, 5]\n",
      "[5, 3, 5]\n",
      "[5, 7, 5]\n",
      "[5, 7, 5]\n",
      "[5, 3, 5]\n",
      "[5, 3, 5]\n",
      "[5, 3, 5]\n"
     ]
    }
   ],
   "source": [
    "tf.reset_default_graph()\n",
    "\n",
    "a = tf.Variable(1)\n",
    "b = tf.constant(2)\n",
    "c = a + b\n",
    "\n",
    "# non-deterministic evaluation order. Variables need to be explicitly told what depends they have.\n",
    "assign = tf.assign(a, 5)\n",
    "\n",
    "sess = tf.Session()\n",
    "for i in range(10):\n",
    "    sess.run(tf.global_variables_initializer())\n",
    "    print(sess.run([assign, c, a]))"
   ]
  },
  {
   "cell_type": "code",
   "execution_count": 15,
   "metadata": {},
   "outputs": [
    {
     "name": "stdout",
     "output_type": "stream",
     "text": [
      "[5, 3, 5]\n",
      "[5, 3, 5]\n",
      "[5, 3, 5]\n",
      "[5, 3, 5]\n",
      "[5, 3, 5]\n",
      "[5, 3, 5]\n",
      "[5, 3, 5]\n",
      "[5, 3, 5]\n",
      "[5, 3, 5]\n",
      "[5, 3, 5]\n"
     ]
    }
   ],
   "source": [
    "tf.reset_default_graph()\n",
    "\n",
    "a = tf.Variable(1)\n",
    "b = tf.constant(2)\n",
    "c = a + b\n",
    "\n",
    "# non-deterministic evaluation order. Variables need to be explicitly told what depends they have.\n",
    "with tf.control_dependencies([c]):\n",
    "    assign = tf.assign(a, 5)\n",
    "\n",
    "sess = tf.Session()\n",
    "for i in range(10):\n",
    "    sess.run(tf.global_variables_initializer())\n",
    "    print(sess.run([assign, c, a]))"
   ]
  },
  {
   "cell_type": "code",
   "execution_count": 16,
   "metadata": {},
   "outputs": [
    {
     "name": "stdout",
     "output_type": "stream",
     "text": [
      "[5, 7, 5]\n",
      "[5, 7, 5]\n",
      "[5, 7, 5]\n",
      "[5, 7, 5]\n",
      "[5, 7, 5]\n",
      "[5, 7, 5]\n",
      "[5, 7, 5]\n",
      "[5, 7, 5]\n",
      "[5, 7, 5]\n",
      "[5, 7, 5]\n"
     ]
    }
   ],
   "source": [
    "tf.reset_default_graph()\n",
    "\n",
    "a = tf.Variable(1)\n",
    "b = tf.constant(2)\n",
    "assign = tf.assign(a, 5)\n",
    "\n",
    "# This is also true for anything that depends on a Variable.\n",
    "with tf.control_dependencies([assign]):\n",
    "    c = a + b\n",
    "\n",
    "sess = tf.Session()\n",
    "for i in range(10):\n",
    "    sess.run(tf.global_variables_initializer())\n",
    "    print(sess.run([assign, c, a]))"
   ]
  },
  {
   "cell_type": "code",
   "execution_count": null,
   "metadata": {},
   "outputs": [],
   "source": []
  }
 ],
 "metadata": {
  "kernelspec": {
   "display_name": "Python 3",
   "language": "python",
   "name": "python3"
  },
  "language_info": {
   "codemirror_mode": {
    "name": "ipython",
    "version": 3
   },
   "file_extension": ".py",
   "mimetype": "text/x-python",
   "name": "python",
   "nbconvert_exporter": "python",
   "pygments_lexer": "ipython3",
   "version": "3.6.3"
  }
 },
 "nbformat": 4,
 "nbformat_minor": 2
}
