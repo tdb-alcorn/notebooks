{
 "cells": [
  {
   "cell_type": "code",
   "execution_count": 2,
   "metadata": {},
   "outputs": [],
   "source": [
    "import numpy as np\n",
    "import tensorflow as tf"
   ]
  },
  {
   "cell_type": "code",
   "execution_count": 15,
   "metadata": {},
   "outputs": [
    {
     "name": "stdout",
     "output_type": "stream",
     "text": [
      "Cell state: [[ 0.35497987  0.53494996]]\n",
      "Hidden state: [[ 0.20016968  0.18720482]]\n",
      "Output [[ 0.58737904  0.38271007]]\n",
      "Cell state: [[ 0.15229724  0.27689087]]\n",
      "Hidden state: [[ 0.08749173  0.11609328]]\n",
      "Output [[ 0.57891482  0.42993522]]\n",
      "Cell state: [[ 0.06252849  0.14657339]]\n",
      "Hidden state: [[ 0.03611411  0.0633527 ]]\n",
      "Output [[ 0.57831508  0.43531603]]\n",
      "Cell state: [[ 0.02315232  0.07974442]]\n",
      "Hidden state: [[ 0.01337414  0.03488839]]\n",
      "Output [[ 0.57776219  0.43842962]]\n",
      "Cell state: [[ 0.00597844  0.04534267]]\n",
      "Hidden state: [[ 0.00345219  0.01993595]]\n",
      "Output [[ 0.577447    0.43997449]]\n",
      "Cell state: [[-0.00140687  0.02758972]]\n",
      "Hidden state: [[-0.00081215  0.01215655]]\n",
      "Output [[ 0.57727468  0.44073075]]\n",
      "Cell state: [[-0.00451195  0.01841074]]\n",
      "Hidden state: [[-0.0026042   0.00812005]]\n",
      "Output [[ 0.57718199  0.44109949]]\n",
      "Cell state: [[-0.0057738   0.01365682]]\n",
      "Hidden state: [[-0.00333221  0.0060261 ]]\n",
      "Output [[ 0.5771324   0.44127923]]\n",
      "Cell state: [[-0.00625998  0.01119088]]\n",
      "Hidden state: [[-0.00361262  0.00493908]]\n",
      "Output [[ 0.57710606  0.44136694]]\n",
      "Cell state: [[-0.0064307   0.00990988]]\n",
      "Hidden state: [[-0.00371105  0.00437417]]\n",
      "Output [[ 0.57709205  0.4414098 ]]\n",
      "Cell state: [[-0.00647977  0.00924352]]\n",
      "Hidden state: [[-0.00373932  0.00408026]]\n",
      "Output [[ 0.5770846   0.44143075]]\n"
     ]
    }
   ],
   "source": [
    "# hidden_size = 4\n",
    "output_size = 2\n",
    "input_size = 8\n",
    "\n",
    "def fully_connected_layer(x, output_size, activation=None, name=None):\n",
    "    name = name if name is not None else 'fc_layer'\n",
    "    x_shape = x.shape[-1].value\n",
    "    W = tf.Variable(initial_value=tf.truncated_normal((x_shape, output_size), stddev=1e-1), name=name+'_weights')\n",
    "    b = tf.Variable(initial_value=tf.zeros((output_size,), dtype=tf.float32), name=name+'_bias')\n",
    "    \n",
    "    return activation(tf.add(tf.matmul(x, W), b))\n",
    "\n",
    "graph = tf.Graph()\n",
    "with graph.as_default():\n",
    "    \n",
    "    cell_state = tf.placeholder(tf.float32, shape=(None, output_size))\n",
    "    hidden_state = tf.placeholder(tf.float32, shape=(None, output_size))\n",
    "    input_ = tf.placeholder(tf.float32, shape=(None, input_size))\n",
    "\n",
    "    x = tf.concat([hidden_state, input_], 1)\n",
    "    x_size = output_size + input_size\n",
    "    \n",
    "    forget = fully_connected_layer(x, output_size, activation=tf.sigmoid, name='forget')\n",
    "    input_gate = fully_connected_layer(x, output_size, activation=tf.sigmoid, name='input_gate')\n",
    "    candidate = fully_connected_layer(x, output_size, activation=tf.tanh, name='candidate')\n",
    "    \n",
    "    next_cell_state = tf.add(tf.multiply(forget, cell_state), tf.multiply(input_gate, candidate))\n",
    "    output = fully_connected_layer(x, output_size, activation=tf.sigmoid, name='output')\n",
    "    next_hidden_state = tf.multiply(output, tf.tanh(next_cell_state))\n",
    "    \n",
    "    with tf.Session() as sess:\n",
    "        init = tf.global_variables_initializer()\n",
    "        sess.run(init)\n",
    "        inp = np.array([\n",
    "            [1, 1, 1, 1, 1, 1, 1, 1],\n",
    "            [1, 1, 1, 1, 1, 1, 1, 1],\n",
    "            [1, 1, 1, 1, 1, 1, 1, 1],\n",
    "            [1, 1, 1, 1, 1, 1, 1, 1],\n",
    "            [1, 1, 1, 1, 1, 1, 1, 1],\n",
    "            [1, 1, 1, 1, 1, 1, 1, 1],\n",
    "            [1, 1, 1, 1, 1, 1, 1, 1],\n",
    "            [1, 1, 1, 1, 1, 1, 1, 1],\n",
    "            [1, 1, 1, 1, 1, 1, 1, 1],\n",
    "            [1, 1, 1, 1, 1, 1, 1, 1],\n",
    "            [1, 1, 1, 1, 1, 1, 1, 1],\n",
    "        ])\n",
    "        ncs = np.array([[1,1]])\n",
    "        nhs = np.array([[1,1]])\n",
    "        for i in range(inp.shape[0]):\n",
    "            feed_dict = {\n",
    "                cell_state: ncs,\n",
    "                hidden_state: nhs,\n",
    "                input_: inp[i:i+1, :],\n",
    "            }\n",
    "            ncs, out, nhs = sess.run([next_cell_state, output, next_hidden_state], feed_dict=feed_dict)\n",
    "            print('Cell state:', ncs)\n",
    "            print('Hidden state:', nhs)\n",
    "            print('Output', out)\n",
    "    "
   ]
  },
  {
   "cell_type": "code",
   "execution_count": null,
   "metadata": {},
   "outputs": [],
   "source": []
  }
 ],
 "metadata": {
  "kernelspec": {
   "display_name": "Python [default]",
   "language": "python",
   "name": "python3"
  },
  "language_info": {
   "codemirror_mode": {
    "name": "ipython",
    "version": 3
   },
   "file_extension": ".py",
   "mimetype": "text/x-python",
   "name": "python",
   "nbconvert_exporter": "python",
   "pygments_lexer": "ipython3",
   "version": "3.6.3"
  }
 },
 "nbformat": 4,
 "nbformat_minor": 2
}
