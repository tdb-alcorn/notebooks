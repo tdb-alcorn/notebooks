{
 "cells": [
  {
   "cell_type": "code",
   "execution_count": 46,
   "metadata": {},
   "outputs": [],
   "source": [
    "program = \"\"\"\n",
    "foo(1).\n",
    "foo(2).\n",
    "bar(X,Y) :- foo(X).\n",
    "\"\"\"\n",
    "\n",
    "# foo(Y).\n",
    "# bar(X,Y)?"
   ]
  },
  {
   "cell_type": "code",
   "execution_count": 68,
   "metadata": {},
   "outputs": [],
   "source": [
    "from pyparsing import Word, alphas, nums, Literal, Or, ParseException\n",
    "from enum import Enum\n",
    "\n",
    "fact = Word( alphas ).setResultsName(\"predicate\") + \"(\" + Word( nums ).setResultsName(\"value\") + \")\"\n",
    "clause = Word( alphas ).setResultsName(\"predicate\") + \"(\" + Word( alphas ).setResultsName(\"var\") + \")\"\n",
    "rule = Word( alphas ).setResultsName(\"predicate\") + \"(\" + Word( alphas ).setResultsName(\"var1\") + \",\" + Word( alphas ).setResultsName(\"var2\") + \")\" + \":-\" + clause.setResultsName(\"clause\")\n",
    "# productions = [fact, clause, rule]\n",
    "\n",
    "class Productions(Enum):\n",
    "    FACT = 0\n",
    "    CLAUSE = 1\n",
    "    RULE = 2\n",
    "    \n",
    "parsers = {\n",
    "    Productions.FACT: fact,\n",
    "    Productions.CLAUSE: clause,\n",
    "    Productions.RULE: rule,\n",
    "}"
   ]
  },
  {
   "cell_type": "code",
   "execution_count": 71,
   "metadata": {},
   "outputs": [
    {
     "name": "stdout",
     "output_type": "stream",
     "text": [
      "['foo', '(', 'X', ')']\n",
      "['foo', '(', '1', ')']\n",
      "['bar', '(', 'X', ',', 'Y', ')', ':-', 'foo', '(', 'X', ')']\n"
     ]
    }
   ],
   "source": [
    "print(clause.parseString(\"foo(X)\", True))\n",
    "print(fact.parseString(\"foo(1)\", True))\n",
    "print(rule.parseString(\"bar(X,Y) :- foo(X)\", True))"
   ]
  },
  {
   "cell_type": "code",
   "execution_count": 77,
   "metadata": {},
   "outputs": [
    {
     "data": {
      "text/plain": [
       "[(<Productions.FACT: 0>,\n",
       "  (['foo', '(', '1', ')'], {'predicate': ['foo'], 'value': ['1']})),\n",
       " (<Productions.FACT: 0>,\n",
       "  (['foo', '(', '2', ')'], {'predicate': ['foo'], 'value': ['2']})),\n",
       " (<Productions.RULE: 2>,\n",
       "  (['bar', '(', 'X', ',', 'Y', ')', ':-', 'foo', '(', 'X', ')'], {'predicate': ['bar', 'foo'], 'var1': ['X'], 'var2': ['Y'], 'var': ['X'], 'clause': [(['foo', '(', 'X', ')'], {'predicate': ['foo'], 'var': ['X']})], 'val1': [None], 'val2': [None]}))]"
      ]
     },
     "execution_count": 77,
     "metadata": {},
     "output_type": "execute_result"
    }
   ],
   "source": [
    "def parse(program):\n",
    "    lines = [c.strip() for c in program.split(\".\")]\n",
    "    lines = [l for l in lines if l != \"\"]\n",
    "    results = list()\n",
    "    for l in lines:\n",
    "        for p in Productions:\n",
    "            parsed = False\n",
    "            try:\n",
    "                # print(\"trying parser\", p, \"on line\", l)\n",
    "                pp = parsers[p].parseString(l, True)\n",
    "                if p is Productions.RULE:\n",
    "                    pp[\"val1\"] = None\n",
    "                    pp[\"val2\"] = None\n",
    "                results.append((p, pp))\n",
    "                parsed = True\n",
    "                break\n",
    "            except ParseException as e:\n",
    "                continue\n",
    "        if not parsed:\n",
    "            raise ParseException(\"All rules failed\")\n",
    "    return results\n",
    "\n",
    "parse(program)"
   ]
  },
  {
   "cell_type": "code",
   "execution_count": 94,
   "metadata": {},
   "outputs": [],
   "source": [
    "from collections import defaultdict\n",
    "\n",
    "def evaluate(statements):\n",
    "    memory = defaultdict(lambda: [])\n",
    "    while len(statements) > 0:\n",
    "        p = statements[0]\n",
    "        new_statements = handle(memory, p[0], p[1])\n",
    "        statements = statements[1:] + new_statements\n",
    "#         print(memory, statements)\n",
    "    return memory\n",
    "        \n",
    "def handle(memory, ptype, p):\n",
    "    new_statements = list()\n",
    "    if ptype is Productions.FACT:\n",
    "        pred = p[\"predicate\"]\n",
    "        value = p[\"value\"]\n",
    "        memory[pred].append(value)\n",
    "    if ptype is Productions.RULE:\n",
    "        print(p[\"predicate\"])\n",
    "        if p[\"val1\"] is not None and p[\"val2\"] is not None:\n",
    "            memory[p[\"predicate\"]].append((p[\"val1\"], p[\"val2\"]))\n",
    "        elif p[\"clause\"] is None and not (p[\"val1\"] is None and p[\"val2\"] is None):\n",
    "            firstVar = p[\"val1\"] is not None\n",
    "            for pred, vals in memory.items():\n",
    "                if isinstance(vals, (list, tuple)):\n",
    "                    continue\n",
    "                if firstVar:\n",
    "                    for v in vals:\n",
    "                        memory[p[\"predicate\"]].append((p[\"val1\"], v))\n",
    "                else:\n",
    "                    for v in vals:\n",
    "                        memory[p[\"predicate\"]].append((v, p[\"val2\"]))\n",
    "        else:\n",
    "            clause = p[\"clause\"]\n",
    "            cp = clause[\"predicate\"]\n",
    "            cv = clause[\"var\"]\n",
    "            p[\"clause\"] = None\n",
    "            firstVar = cv == p[\"var1\"] and p[\"val1\"] is not None\n",
    "            for val in memory[cp]:\n",
    "                if firstVar:\n",
    "                    p[\"val1\"] = val\n",
    "                    new_statements.append((Productions.RULE, p))\n",
    "                else:\n",
    "                    p[\"val2\"] = val\n",
    "                    new_statements.append((Productions.RULE, p))\n",
    "    return new_statements"
   ]
  },
  {
   "cell_type": "code",
   "execution_count": 95,
   "metadata": {},
   "outputs": [
    {
     "name": "stdout",
     "output_type": "stream",
     "text": [
      "foo\n",
      "foo\n",
      "foo\n"
     ]
    },
    {
     "data": {
      "text/plain": [
       "defaultdict(<function __main__.evaluate.<locals>.<lambda>>,\n",
       "            {'foo': ['1', '2']})"
      ]
     },
     "execution_count": 95,
     "metadata": {},
     "output_type": "execute_result"
    }
   ],
   "source": [
    "evaluate(parse(program))"
   ]
  },
  {
   "cell_type": "code",
   "execution_count": null,
   "metadata": {},
   "outputs": [],
   "source": [
    "\n",
    "\n",
    "class Parser(object):\n",
    "    def __init__(self, program):\n",
    "        self.program = program\n",
    "    def separators(self):\n",
    "        return [\".\", \"?\", ]"
   ]
  },
  {
   "cell_type": "code",
   "execution_count": null,
   "metadata": {},
   "outputs": [],
   "source": []
  }
 ],
 "metadata": {
  "kernelspec": {
   "display_name": "Python 3",
   "language": "python",
   "name": "python3"
  },
  "language_info": {
   "codemirror_mode": {
    "name": "ipython",
    "version": 3
   },
   "file_extension": ".py",
   "mimetype": "text/x-python",
   "name": "python",
   "nbconvert_exporter": "python",
   "pygments_lexer": "ipython3",
   "version": "3.6.3"
  }
 },
 "nbformat": 4,
 "nbformat_minor": 2
}
