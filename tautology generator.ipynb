{
 "cells": [
  {
   "cell_type": "code",
   "execution_count": 1,
   "metadata": {},
   "outputs": [
    {
     "data": {
      "text/plain": [
       "(True,\n",
       " (),\n",
       " {(False, False): True,\n",
       "  (False, True): True,\n",
       "  (True, False): True,\n",
       "  (True, True): True})"
      ]
     },
     "execution_count": 1,
     "metadata": {},
     "output_type": "execute_result"
    }
   ],
   "source": [
    "from inspect import signature\n",
    "\n",
    "def int_to_bool_tuple(num, n=4):\n",
    "    return tuple([bool(num & (1<<i)) for i in range(n)])\n",
    "\n",
    "def implies(P, Q):\n",
    "    return {\n",
    "        False: {\n",
    "            False: True,\n",
    "            True: True,\n",
    "        },\n",
    "        True: {\n",
    "            False: False,\n",
    "            True: True,\n",
    "        },\n",
    "    }[P][Q]\n",
    "\n",
    "def _not(P):\n",
    "    return not P\n",
    "\n",
    "def _and(P, Q):\n",
    "    return P and Q\n",
    "\n",
    "def _or(P, Q):\n",
    "    return P or Q\n",
    "\n",
    "def equals(P, Q):\n",
    "    return P == Q\n",
    "\n",
    "def test(proposition):\n",
    "    sig = signature(proposition)\n",
    "    n = len(sig.parameters)\n",
    "    out = dict()\n",
    "    result = True\n",
    "    ce = tuple()\n",
    "    for i in range(n<<1):\n",
    "        args = int_to_bool_tuple(i, n=n)\n",
    "        v = proposition(*args)\n",
    "        if not v:\n",
    "            ce = args\n",
    "        result = result and v\n",
    "        out[args] = v\n",
    "    return result, ce, out\n",
    "\n",
    "# modus ponens\n",
    "test(lambda P, Q: implies(implies(P, Q) and P, Q))\n",
    "# excluded middle\n",
    "test(lambda P: P or not P)\n",
    "# contradiction\n",
    "test(lambda P: P and not P)\n",
    "# substitution/syllogism\n",
    "test(lambda P, Q, R: implies(implies(P, Q) and implies(Q, R), implies(P, R)))\n",
    "# reductio ad absurdum\n",
    "test(lambda A, B: implies((implies(not A, B) and implies(not A, not B)), A))"
   ]
  },
  {
   "cell_type": "code",
   "execution_count": 2,
   "metadata": {},
   "outputs": [],
   "source": [
    "class TheoremSet(object):\n",
    "    def __init__(self):\n",
    "        self.theorems = set()\n",
    "    def add(self, theorem):\n",
    "        for p in self.theorems:\n",
    "            # don't add a theorem if an equivalent theorem already exists\n",
    "            if eval(\"test(lambda A, B: equals(%s, %s))\" % (p, theorem)):\n",
    "                return p\n",
    "        self.theorems.add(theorem)\n",
    "    def __repr__(self):\n",
    "        return self.theorems.__repr__()\n",
    "\n",
    "def theorem_generator(num_steps=10):\n",
    "    well_formed = set([\n",
    "        'A',\n",
    "        'B',\n",
    "    ])\n",
    "    theorems = TheoremSet()\n",
    "    def add_expr(s, op, *args):\n",
    "        s.add(op + \"(\" + \", \".join(args) + \")\")\n",
    "    op1 = [\n",
    "        '_not',\n",
    "    ]\n",
    "    op2 = [\n",
    "        'implies',\n",
    "        '_and',\n",
    "        '_or',\n",
    "        'equals',\n",
    "    ]\n",
    "    for t in range(num_steps):\n",
    "        print(len(well_formed))\n",
    "        for expr in well_formed:\n",
    "            valid, counter_example, truth_table = eval(\"test(lambda A, B: %s)\" % expr)\n",
    "            if valid:\n",
    "                theorems.add(expr)\n",
    "        new_well_formed = set()\n",
    "        for expr1 in well_formed:\n",
    "            for op in op1:\n",
    "                # prevent infinite chains of _not\n",
    "                if not expr1.startswith('_not('):\n",
    "                    add_expr(new_well_formed, op, expr1)\n",
    "            for expr2 in well_formed:\n",
    "                if expr1 != expr2:\n",
    "                    for op in op2:\n",
    "                        add_expr(new_well_formed, op, expr1, expr2)\n",
    "                        if op == 'implies':\n",
    "                            add_expr(new_well_formed, op, expr2, expr1)\n",
    "        well_formed = new_well_formed\n",
    "    return theorems"
   ]
  },
  {
   "cell_type": "code",
   "execution_count": 3,
   "metadata": {},
   "outputs": [
    {
     "name": "stdout",
     "output_type": "stream",
     "text": [
      "2\n",
      "10\n",
      "368\n"
     ]
    },
    {
     "data": {
      "text/plain": [
       "{'_or(equals(A, B), _or(B, A))'}"
      ]
     },
     "execution_count": 3,
     "metadata": {},
     "output_type": "execute_result"
    }
   ],
   "source": [
    "theorem_generator(num_steps=3)"
   ]
  },
  {
   "cell_type": "code",
   "execution_count": 102,
   "metadata": {},
   "outputs": [],
   "source": [
    "class Reader(object):\n",
    "    EOF = 65535\n",
    "    SPACE = ' '\n",
    "    NEWLINE = '\\n'\n",
    "    RETURN = '\\r'\n",
    "    TAB = '\\t'\n",
    "    @staticmethod\n",
    "    def is_whitespace(c):\n",
    "        return any((\n",
    "            c == Reader.SPACE,\n",
    "            c == Reader.NEWLINE,\n",
    "            c == Reader.RETURN,\n",
    "            c == Reader.TAB,\n",
    "        ))\n",
    "        \n",
    "    def __init__(self, string):\n",
    "        self.string = string\n",
    "        self.length = len(self.string)\n",
    "        self.pos = 0\n",
    "    def read(self, skip_ws=True):\n",
    "        if self.pos >= self.length:\n",
    "            raise Exception(\"Reached end of input.\")\n",
    "        c = self.string[self.pos]\n",
    "        self.pos += 1\n",
    "        while Reader.is_whitespace(c):\n",
    "            c = self.string[self.pos]\n",
    "            self.pos += 1\n",
    "        return c\n",
    "    def peek(self):\n",
    "        if self.pos >= self.length:\n",
    "            return Reader.EOF\n",
    "        return self.string[self.pos]\n",
    "    def must_consume(self, c):\n",
    "        x = self.read()\n",
    "        if x != c:\n",
    "            raise Exception(\"Expected %s but got %s\" % (c, x))\n",
    "        return\n",
    "\n",
    "def parse_expr(expr):\n",
    "    pos = 0\n",
    "    l = len(expr)\n",
    "    reader = Reader(expr)    \n",
    "    op = ''\n",
    "    while reader.peek() != '(' and reader.peek() != Reader.EOF:\n",
    "        op += reader.read()\n",
    "    if reader.peek() == Reader.EOF:\n",
    "        return op, '', ''\n",
    "    reader.must_consume('(')\n",
    "    lp_count = 1\n",
    "    left_expr = ''\n",
    "    right_expr = ''\n",
    "    left = True\n",
    "    while lp_count > 0:\n",
    "        c = reader.read()\n",
    "        if c == ',':\n",
    "            if lp_count == 1:\n",
    "                left = False\n",
    "            else:\n",
    "                if left:\n",
    "                    left_expr += c\n",
    "                else:\n",
    "                    right_expr += c\n",
    "        else:\n",
    "            # update parentheses counter\n",
    "            if c == '(':\n",
    "                lp_count += 1\n",
    "            elif c == ')':\n",
    "                lp_count -= 1\n",
    "                if lp_count <= 0:\n",
    "                    break\n",
    "            # store character in sub expression\n",
    "            if left:\n",
    "                left_expr += c\n",
    "            else:\n",
    "                right_expr += c\n",
    "    return op, left_expr, right_expr\n",
    "\n",
    "def parse_all(expr):\n",
    "    op, left, right = parse_expr(expr)\n",
    "    if left == '':\n",
    "        return op\n",
    "    if right == '':\n",
    "        return (op, parse_all(left))\n",
    "    return (op, parse_all(left), parse_all(right))"
   ]
  },
  {
   "cell_type": "code",
   "execution_count": 103,
   "metadata": {},
   "outputs": [
    {
     "data": {
      "text/plain": [
       "('_or', ('_or', 'A', 'B'), ('implies', 'A', 'B'))"
      ]
     },
     "execution_count": 103,
     "metadata": {},
     "output_type": "execute_result"
    }
   ],
   "source": [
    "parse_all('_or(_or(A, B), implies(A, B))')"
   ]
  },
  {
   "cell_type": "code",
   "execution_count": null,
   "metadata": {},
   "outputs": [],
   "source": []
  }
 ],
 "metadata": {
  "kernelspec": {
   "display_name": "Python 3",
   "language": "python",
   "name": "python3"
  },
  "language_info": {
   "codemirror_mode": {
    "name": "ipython",
    "version": 3
   },
   "file_extension": ".py",
   "mimetype": "text/x-python",
   "name": "python",
   "nbconvert_exporter": "python",
   "pygments_lexer": "ipython3",
   "version": "3.6.3"
  }
 },
 "nbformat": 4,
 "nbformat_minor": 2
}
