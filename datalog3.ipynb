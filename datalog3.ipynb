{
 "cells": [
  {
   "cell_type": "code",
   "execution_count": 2,
   "metadata": {},
   "outputs": [],
   "source": [
    "from pyparsing import Word, alphas, nums, Literal, Or, ParseException, ZeroOrMore, Group, delimitedList, OneOrMore\n",
    "from enum import Enum\n",
    "\n",
    "identifier = Word(alphas)\n",
    "value = Word(nums)\n",
    "variable = identifier ^ value\n",
    "\n",
    "clause = identifier.setResultsName(\"predicate\") + \"(\" + delimitedList(variable, delim=\",\").setResultsName(\"variables\") + \")\"\n",
    "rule = clause.setResultsName(\"head\") + \":-\" + delimitedList(Group(clause), delim=\",\").setResultsName(\"body\")\n",
    "statement = Group((clause ^ rule) + Or([\".\", \"?\"]))\n",
    "program = OneOrMore(statement)"
   ]
  },
  {
   "cell_type": "code",
   "execution_count": 133,
   "metadata": {},
   "outputs": [],
   "source": [
    "from collections import defaultdict\n",
    "from copy import deepcopy\n",
    "\n",
    "def is_variable(v):\n",
    "    return v[0].isalpha() and v[0].isupper()\n",
    "\n",
    "def find_matching_indices(l1, l2):\n",
    "    r = list()\n",
    "    for el in l2:\n",
    "        if el in l1:\n",
    "            r.append(l1.index(el))\n",
    "        else:\n",
    "            r.append(None)\n",
    "    return r\n",
    "\n",
    "def handle(memory, s):\n",
    "    new_statements = list()\n",
    "    if \"head\" in s:\n",
    "        locs = variable_locations(s)\n",
    "        if \"assignments\" not in s:\n",
    "            s[\"assignments\"] = defaultdict(lambda:None)\n",
    "        if len(s[\"body\"]) == 0:\n",
    "            memory[s[\"head\"][\"predicate\"]].append(s[\"head\"][\"variables\"])\n",
    "        for cidx in range(len(s[\"body\"])):\n",
    "            c = s[\"body\"][cidx]\n",
    "            if any(is_variable(var) for var in c[\"variables\"]):\n",
    "                for values in memory[c[\"predicate\"]]:\n",
    "                    new_s = deepcopy(s)\n",
    "#                     print(\"Before:\", rule_to_string(new_s))\n",
    "                    try:\n",
    "                        substitutions = generate_substitutions(c, values)\n",
    "                        new_s = make_substitutions(new_s, locs, substitutions)\n",
    "                        new_s[\"body\"] = new_s[\"body\"][:cidx] + new_s[\"body\"][cidx+1:]\n",
    "#                         print(\"After:\", rule_to_string(new_s))\n",
    "                        new_statements.append(new_s)\n",
    "                    except SubstitutionConflict as e:\n",
    "#                         print(e)\n",
    "                        pass\n",
    "#                     print()\n",
    "            else:\n",
    "                # just remove the already fulfilled clause if the clause matches some fact in memory\n",
    "                if clause_is_valid(memory, c):\n",
    "                    new_s = deepcopy(s)\n",
    "                    new_s[\"body\"] = new_s[\"body\"][:cidx] + new_s[\"body\"][cidx+1:]\n",
    "                    new_statements.append(new_s)\n",
    "    else:\n",
    "        memory[s[\"predicate\"]].append(s[\"variables\"])\n",
    "    return new_statements\n",
    "\n",
    "def clause_is_valid(memory, clause):\n",
    "    valid = False\n",
    "    for values in memory[clause[\"predicate\"]]:\n",
    "        if all(values[i] == clause[\"variables\"][i] for i in range(len(values))):\n",
    "            valid = True\n",
    "            break\n",
    "    return valid\n",
    "\n",
    "def clause_to_string(clause):\n",
    "    return clause[\"predicate\"] + \"(\" + \", \".join(clause[\"variables\"]) + \")\"\n",
    "\n",
    "def rule_to_string(rule):\n",
    "    return clause_to_string(rule[\"head\"]) + \" :- \" + \", \".join(clause_to_string(bc) for bc in rule[\"body\"])\n",
    "\n",
    "class SubstitutionConflict(Exception):\n",
    "    pass\n",
    "\n",
    "def generate_substitutions(clause, new_values):\n",
    "    candidates = dict(zip(clause[\"variables\"], new_values))\n",
    "#     print(\"Trying to make substitutions\", \", \".join([var + \" -> \" + value for var, value in candidates.items()]))\n",
    "    for vidx in range(len(clause[\"variables\"])):\n",
    "        var = clause[\"variables\"][vidx]\n",
    "        if not is_variable(var):\n",
    "#             print(\"Found prior value\", var, value)\n",
    "            if var != new_values[vidx]:\n",
    "                raise SubstitutionConflict(\"Conflicting values: \" + var + value)\n",
    "    return candidates\n",
    "\n",
    "def make_substitutions(rule, locs, substitutions):\n",
    "#     print(\"Making substitutions\", \", \".join([var + \" -> \" + value for var, value in substitutions.items()]))\n",
    "#     print(locs)\n",
    "    for var, value in substitutions.items():\n",
    "        if rule[\"assignments\"][var] is None:\n",
    "            for vidx in locs[var][\"head\"]:\n",
    "                rule[\"head\"][\"variables\"][vidx] = value\n",
    "            for cidx in range(len(locs[var][\"body\"])):\n",
    "                c = locs[var][\"body\"][cidx]\n",
    "                for vidx in c:\n",
    "                    rule[\"body\"][cidx][\"variables\"][vidx] = value\n",
    "        else:\n",
    "#             print(\"Found prior value\", rule[\"assignments\"][var], value)\n",
    "            if rule[\"assignments\"][var] != value:\n",
    "                raise SubstitutionConflict(\"Conflicting values: \" + rule[\"assignments\"][var] + value)\n",
    "    return rule\n",
    "\n",
    "def variable_locations(rule):\n",
    "    num_clauses = len(rule[\"body\"])\n",
    "    locs = defaultdict(lambda:{\"head\":list(), \"body\":[[] for i in range(num_clauses)]})\n",
    "    for cidx in range(len(rule[\"body\"])):\n",
    "        clocs = defaultdict(list)\n",
    "        for vidx in range(len(rule[\"body\"][cidx][\"variables\"])):\n",
    "            varname = rule[\"body\"][cidx][\"variables\"][vidx]\n",
    "            clocs[varname].append(vidx)\n",
    "        for varname, l in clocs.items():\n",
    "            locs[varname][\"body\"][cidx] = l\n",
    "    for vidx in range(len(rule[\"head\"][\"variables\"])):\n",
    "        varname = rule[\"head\"][\"variables\"][vidx]\n",
    "        locs[varname][\"head\"].append(vidx)\n",
    "    return locs\n",
    "            \n",
    "def evaluate(statements):\n",
    "    statements = [s.asDict() for s in statements]\n",
    "    memory = defaultdict(list)\n",
    "    while len(statements) > 0:\n",
    "        new_statements = handle(memory, statements[0])\n",
    "        statements = statements[1:] + new_statements\n",
    "#         print(\"Memory:\", memory)\n",
    "    return memory\n"
   ]
  },
  {
   "cell_type": "code",
   "execution_count": 134,
   "metadata": {},
   "outputs": [
    {
     "data": {
      "text/plain": [
       "[['zach', 'zach'],\n",
       " ['zach', 'yolanda'],\n",
       " ['yolanda', 'zach'],\n",
       " ['yolanda', 'yolanda'],\n",
       " ['zach', 'zach'],\n",
       " ['yolanda', 'zach'],\n",
       " ['zach', 'yolanda'],\n",
       " ['yolanda', 'yolanda']]"
      ]
     },
     "execution_count": 134,
     "metadata": {},
     "output_type": "execute_result"
    }
   ],
   "source": [
    "evaluate(program.parseString(\"\"\"\n",
    "parent(alice, eve).\n",
    "parent(bob, eve).\n",
    "parent(zach, alice).\n",
    "parent(yolanda, bob).\n",
    "sibling(A,B) :- parent(A,C),parent(B,C).\n",
    "cousin(Z,Y) :- parent(Z,A),parent(Y,B),sibling(A,B).\n",
    "\"\"\"))[\"cousin\"]"
   ]
  },
  {
   "cell_type": "code",
   "execution_count": 135,
   "metadata": {},
   "outputs": [
    {
     "data": {
      "text/plain": [
       "[['1', '2'], ['2', '3'], ['1', '3']]"
      ]
     },
     "execution_count": 135,
     "metadata": {},
     "output_type": "execute_result"
    }
   ],
   "source": [
    "evaluate(program.parseString(\"\"\"\n",
    "edge(1,2).\n",
    "edge(2,3).\n",
    "tc(A,B) :- edge(A,B).\n",
    "tc(A,B) :- edge(A,C),tc(C,B).\n",
    "\"\"\"))[\"tc\"]"
   ]
  },
  {
   "cell_type": "code",
   "execution_count": 21,
   "metadata": {},
   "outputs": [
    {
     "name": "stdout",
     "output_type": "stream",
     "text": [
      "{'predicate': 'sibling', 'variables': ['A', 'B'], 'head': {'predicate': 'sibling', 'variables': ['A', 'B']}, 'body': [{'predicate': 'parent', 'variables': ['A', 'C']}, {'predicate': 'parent', 'variables': ['B', 'C']}]}\n",
      "{'predicate': 'sibling', 'variables': ['A', 'B'], 'head': {'predicate': 'sibling', 'variables': ['A', 'B']}, 'body': [{'predicate': 'parent', 'variables': ['A', 'C']}, {'predicate': 'parent', 'variables': ['B', 'C']}]}\n",
      "{'predicate': 'sibling', 'variables': ['A', 'B'], 'head': {'predicate': 'sibling', 'variables': ['A', 'B']}, 'body': [{'predicate': 'parent', 'variables': ['A', 'C']}, {'predicate': 'parent', 'variables': ['B', 'C']}]}\n",
      "{'predicate': 'sibling', 'variables': ['A', 'B'], 'head': {'predicate': 'sibling', 'variables': ['A', 'B']}, 'body': [{'predicate': 'parent', 'variables': ['A', 'C']}, {'predicate': 'parent', 'variables': ['B', 'C']}]}\n"
     ]
    },
    {
     "data": {
      "text/plain": [
       "defaultdict(<function __main__.variable_locations.<locals>.<lambda>>,\n",
       "            {'A': {'body': [[0]], 'head': [0]},\n",
       "             'B': {'body': [[0]], 'head': [1]},\n",
       "             'C': {'body': [[1], [1]], 'head': []}})"
      ]
     },
     "execution_count": 21,
     "metadata": {},
     "output_type": "execute_result"
    }
   ],
   "source": [
    "variable_locations({'predicate': 'sibling', 'variables': ['A', 'B'], 'head': {'predicate': 'sibling', 'variables': ['A', 'B']}, 'body': [{'predicate': 'parent', 'variables': ['A', 'C']}, {'predicate': 'parent', 'variables': ['B', 'C']}]})"
   ]
  },
  {
   "cell_type": "code",
   "execution_count": 67,
   "metadata": {},
   "outputs": [
    {
     "name": "stdout",
     "output_type": "stream",
     "text": [
      "defaultdict(<class 'list'>, {'foo': [0]}) defaultdict(<class 'list'>, {'foo': [1]})\n"
     ]
    }
   ],
   "source": [
    "a = defaultdict(list)\n",
    "a[\"foo\"].append(0)\n",
    "b = deepcopy(a)\n",
    "b[\"foo\"][0] = 1\n",
    "print(a,b)"
   ]
  },
  {
   "cell_type": "code",
   "execution_count": null,
   "metadata": {},
   "outputs": [],
   "source": [
    "\"\"\"\n",
    "person(alice).\n",
    "person(bob).\n",
    "person(eve).\n",
    "person(zach).\n",
    "person(yolanda).\n",
    "\"\"\""
   ]
  }
 ],
 "metadata": {
  "kernelspec": {
   "display_name": "Python 3",
   "language": "python",
   "name": "python3"
  },
  "language_info": {
   "codemirror_mode": {
    "name": "ipython",
    "version": 3
   },
   "file_extension": ".py",
   "mimetype": "text/x-python",
   "name": "python",
   "nbconvert_exporter": "python",
   "pygments_lexer": "ipython3",
   "version": "3.6.3"
  }
 },
 "nbformat": 4,
 "nbformat_minor": 2
}
